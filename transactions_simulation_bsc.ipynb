{
 "cells": [
  {
   "cell_type": "code",
   "execution_count": 1,
   "id": "cf68646d",
   "metadata": {},
   "outputs": [],
   "source": [
    "from web3 import Web3, HTTPProvider\n",
    "from web3.middleware import geth_poa_middleware\n",
    "import json"
   ]
  },
  {
   "cell_type": "code",
   "execution_count": 2,
   "id": "60682b22",
   "metadata": {},
   "outputs": [],
   "source": [
    "address = '0x9b935Cae0Fb2FAE04FBA987cF88B0541A36F4589'\n",
    "private_key = '47bb8d0a31a47374037167feee334a40a1fc93b7ad4911137fa79fa52a5e47f8'\n",
    "jabali_contract_address = '0xae705b6054869236445c9aE9396eB4D2f95d971C'\n",
    "\n",
    "f = open('jabali_abi_bsc.json')\n",
    "JABALI_ABI = json.load(f)\n",
    "f.close()"
   ]
  },
  {
   "cell_type": "code",
   "execution_count": 3,
   "id": "b30300ca",
   "metadata": {},
   "outputs": [],
   "source": [
    "w3 = Web3(Web3.HTTPProvider(\"https://data-seed-prebsc-2-s1.binance.org:8545/\"))  \n",
    "w3.middleware_onion.inject(geth_poa_middleware, layer=0)\n",
    "jabali_contract = w3.eth.contract(jabali_contract_address, abi=JABALI_ABI)"
   ]
  },
  {
   "cell_type": "code",
   "execution_count": 4,
   "id": "f94dab4d",
   "metadata": {},
   "outputs": [
    {
     "data": {
      "text/plain": [
       "HexBytes('0x12870c5160673d022a954a462ff81c8c78e7e19d46eeafebd082fee2370e5fe3')"
      ]
     },
     "execution_count": 4,
     "metadata": {},
     "output_type": "execute_result"
    }
   ],
   "source": [
    "nonce = w3.eth.get_transaction_count(address)\n",
    "transaction = jabali_contract.functions.depositFunds().buildTransaction({'nonce' : nonce,\n",
    "                                                                         'gas': 200000,\n",
    "                                                                         'value': 1000000000000000000})\n",
    "signed_tx = w3.eth.account.sign_transaction(transaction, private_key)\n",
    "w3.eth.sendRawTransaction(signed_tx.rawTransaction)"
   ]
  },
  {
   "cell_type": "code",
   "execution_count": 7,
   "id": "7240e69c",
   "metadata": {},
   "outputs": [],
   "source": [
    "#SIMULATE FULL\n",
    "import time \n",
    "nonce = w3.eth.get_transaction_count(address)\n",
    "\n",
    "throws = 400\n",
    "for i in range(throws):\n",
    "    transaction = jabali_contract.functions.enterThrow().buildTransaction({'nonce' : nonce,\n",
    "                                                                            'gas': 200000,\n",
    "                                                                            'value': 2000000000000000})\n",
    "    signed_tx = w3.eth.account.sign_transaction(transaction, private_key)\n",
    "    w3.eth.sendRawTransaction(signed_tx.rawTransaction)\n",
    "    nonce += 1\n",
    "    time.sleep(1)"
   ]
  },
  {
   "cell_type": "code",
   "execution_count": null,
   "id": "7a7a5ff9",
   "metadata": {},
   "outputs": [],
   "source": [
    "#DO DASHBOARD"
   ]
  }
 ],
 "metadata": {
  "kernelspec": {
   "display_name": "Python 3 (ipykernel)",
   "language": "python",
   "name": "python3"
  },
  "language_info": {
   "codemirror_mode": {
    "name": "ipython",
    "version": 3
   },
   "file_extension": ".py",
   "mimetype": "text/x-python",
   "name": "python",
   "nbconvert_exporter": "python",
   "pygments_lexer": "ipython3",
   "version": "3.10.1"
  }
 },
 "nbformat": 4,
 "nbformat_minor": 5
}
