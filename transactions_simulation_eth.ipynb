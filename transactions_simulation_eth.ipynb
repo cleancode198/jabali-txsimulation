{
 "cells": [
  {
   "cell_type": "code",
   "execution_count": 1,
   "id": "cf68646d",
   "metadata": {},
   "outputs": [],
   "source": [
    "from web3 import Web3, HTTPProvider\n",
    "from web3.middleware import geth_poa_middleware\n",
    "import json"
   ]
  },
  {
   "cell_type": "code",
   "execution_count": 2,
   "id": "60682b22",
   "metadata": {},
   "outputs": [],
   "source": [
    "address = '0x9b935Cae0Fb2FAE04FBA987cF88B0541A36F4589'\n",
    "private_key = '47bb8d0a31a47374037167feee334a40a1fc93b7ad4911137fa79fa52a5e47f8'\n",
    "jabali_contract_address = '0x3747080a7288Ea9d40e3CFA69c1C5ac9609dF632'\n",
    "nft_contract_address = '0x18aB4ee8b892CaFC0463Cd7d1E24ba4F69b85123'\n",
    "\n",
    "f = open('jabali_abi.json')\n",
    "JABALI_ABI = json.load(f)\n",
    "f.close()\n",
    "f = open('nfts.json')\n",
    "NFT_ABI = json.load(f)\n",
    "f.close()"
   ]
  },
  {
   "cell_type": "code",
   "execution_count": 3,
   "id": "b30300ca",
   "metadata": {},
   "outputs": [],
   "source": [
    "w3 = Web3(Web3.HTTPProvider(\"https://rinkeby.infura.io/v3/59c39b7c376a4eacb11ac316c297587a\"))\n",
    "w3.middleware_onion.inject(geth_poa_middleware, layer=0)\n",
    "jabali_contract = w3.eth.contract(jabali_contract_address, abi=JABALI_ABI)\n",
    "nft_contract = w3.eth.contract(nft_contract_address, abi=NFT_ABI)"
   ]
  },
  {
   "cell_type": "code",
   "execution_count": 4,
   "id": "249bacf7",
   "metadata": {},
   "outputs": [],
   "source": [
    "# #MINT AND APPROVE NFTS\n",
    "# nfts_to_mint = 33\n",
    "\n",
    "# nonce = w3.eth.get_transaction_count(address)\n",
    "# transaction = nft_contract.functions.awardItem(address,\n",
    "#                                                nfts_to_mint,\n",
    "#                                                jabali_contract_address).buildTransaction({'nonce': nonce,\n",
    "#                                                                                          'gas': 2000000,\n",
    "#                                                                                          'value': 0})\n",
    "# signed_tx = w3.eth.account.sign_transaction(transaction, private_key)\n",
    "# w3.eth.sendRawTransaction(signed_tx.rawTransaction)"
   ]
  },
  {
   "cell_type": "code",
   "execution_count": 5,
   "id": "4267f31e",
   "metadata": {},
   "outputs": [],
   "source": [
    "#DEPOSIT NFTS\n",
    "top_nft_cost_average = 100\n",
    "medium_nft_cost_average = 10\n",
    "normal_nft_cost_average = 1\n",
    "\n",
    "top_nft_quantity = 3\n",
    "medium_nft_quantity = 10\n",
    "normal_nft_quantity = 20\n",
    "\n",
    "token_id = 1\n",
    "nonce = w3.eth.get_transaction_count(address)\n",
    "for i in range(top_nft_quantity):\n",
    "    transaction = jabali_contract.functions.depositTopNFT(nft_contract_address,\n",
    "                                                           token_id,\n",
    "                                                           top_nft_cost_average * 10**18).buildTransaction({'nonce': nonce,\n",
    "                                                                                                   'gas': 700000,\n",
    "                                                                                                   'value': 0})\n",
    "    signed_tx = w3.eth.account.sign_transaction(transaction, private_key)\n",
    "    w3.eth.sendRawTransaction(signed_tx.rawTransaction)\n",
    "    nonce += 1\n",
    "    token_id += 1\n",
    "    \n",
    "for i in range(medium_nft_quantity):\n",
    "    transaction = jabali_contract.functions.depositMediumNFT(nft_contract_address,\n",
    "                                                              token_id,\n",
    "                                                              medium_nft_cost_average * 10**18).buildTransaction({'nonce': nonce,\n",
    "                                                                                                   'gas': 700000,\n",
    "                                                                                                   'value': 0})\n",
    "    signed_tx = w3.eth.account.sign_transaction(transaction, private_key)\n",
    "    w3.eth.sendRawTransaction(signed_tx.rawTransaction)\n",
    "    nonce += 1\n",
    "    token_id += 1\n",
    "    \n",
    "for i in range(normal_nft_quantity):\n",
    "    transaction = jabali_contract.functions.depositNormalNFT(nft_contract_address,\n",
    "                                                              token_id,\n",
    "                                                              normal_nft_cost_average * 10**18).buildTransaction({'nonce': nonce,\n",
    "                                                                                                   'gas': 700000,\n",
    "                                                                                                   'value': 0})\n",
    "    signed_tx = w3.eth.account.sign_transaction(transaction, private_key)\n",
    "    w3.eth.sendRawTransaction(signed_tx.rawTransaction)\n",
    "    nonce += 1\n",
    "    token_id += 1"
   ]
  },
  {
   "cell_type": "code",
   "execution_count": 6,
   "id": "c7390b8b",
   "metadata": {},
   "outputs": [],
   "source": [
    "referralAddress = '0xe8B954a1B346C72C5aF485cF92D0aa2120588d6D'\n",
    "privatekey_referral = 'aef462768fcab2dcf8ab78cf121307f74f22ebb3c4aa52b751c3911f55c98694'\n",
    "\n",
    "nonce = w3.eth.get_transaction_count(referralAddress)\n",
    "\n",
    "throws = 10\n",
    "for i in range(throws):\n",
    "    transaction = jabali_contract.functions.enterThrow().buildTransaction({'nonce' : nonce,\n",
    "                                                                            'gas': 200000,\n",
    "                                                                            'value': 10000000000000000})\n",
    "    signed_tx = w3.eth.account.sign_transaction(transaction, privatekey_referral)\n",
    "    w3.eth.sendRawTransaction(signed_tx.rawTransaction)\n",
    "    nonce += 1"
   ]
  },
  {
   "cell_type": "code",
   "execution_count": 16,
   "id": "7240e69c",
   "metadata": {},
   "outputs": [
    {
     "ename": "ValueError",
     "evalue": "{'code': -32000, 'message': 'insufficient funds for gas * price + value'}",
     "output_type": "error",
     "traceback": [
      "\u001b[1;31m---------------------------------------------------------------------------\u001b[0m",
      "\u001b[1;31mValueError\u001b[0m                                Traceback (most recent call last)",
      "\u001b[1;32m~\\AppData\\Local\\Temp/ipykernel_32632/3855919917.py\u001b[0m in \u001b[0;36m<module>\u001b[1;34m\u001b[0m\n\u001b[0;32m      9\u001b[0m                                                                             'value': 10000000000000000})\n\u001b[0;32m     10\u001b[0m     \u001b[0msigned_tx\u001b[0m \u001b[1;33m=\u001b[0m \u001b[0mw3\u001b[0m\u001b[1;33m.\u001b[0m\u001b[0meth\u001b[0m\u001b[1;33m.\u001b[0m\u001b[0maccount\u001b[0m\u001b[1;33m.\u001b[0m\u001b[0msign_transaction\u001b[0m\u001b[1;33m(\u001b[0m\u001b[0mtransaction\u001b[0m\u001b[1;33m,\u001b[0m \u001b[0mprivate_key\u001b[0m\u001b[1;33m)\u001b[0m\u001b[1;33m\u001b[0m\u001b[1;33m\u001b[0m\u001b[0m\n\u001b[1;32m---> 11\u001b[1;33m     \u001b[0mw3\u001b[0m\u001b[1;33m.\u001b[0m\u001b[0meth\u001b[0m\u001b[1;33m.\u001b[0m\u001b[0msendRawTransaction\u001b[0m\u001b[1;33m(\u001b[0m\u001b[0msigned_tx\u001b[0m\u001b[1;33m.\u001b[0m\u001b[0mrawTransaction\u001b[0m\u001b[1;33m)\u001b[0m\u001b[1;33m\u001b[0m\u001b[1;33m\u001b[0m\u001b[0m\n\u001b[0m\u001b[0;32m     12\u001b[0m     \u001b[0mnonce\u001b[0m \u001b[1;33m+=\u001b[0m \u001b[1;36m1\u001b[0m\u001b[1;33m\u001b[0m\u001b[1;33m\u001b[0m\u001b[0m\n\u001b[0;32m     13\u001b[0m     \u001b[0mtime\u001b[0m\u001b[1;33m.\u001b[0m\u001b[0msleep\u001b[0m\u001b[1;33m(\u001b[0m\u001b[1;36m0.3\u001b[0m\u001b[1;33m)\u001b[0m\u001b[1;33m\u001b[0m\u001b[1;33m\u001b[0m\u001b[0m\n",
      "\u001b[1;32m~\\AppData\\Local\\Programs\\Python\\Python310\\lib\\site-packages\\web3\\eth.py\u001b[0m in \u001b[0;36msend_raw_transaction\u001b[1;34m(self, transaction)\u001b[0m\n\u001b[0;32m    696\u001b[0m \u001b[1;33m\u001b[0m\u001b[0m\n\u001b[0;32m    697\u001b[0m     \u001b[1;32mdef\u001b[0m \u001b[0msend_raw_transaction\u001b[0m\u001b[1;33m(\u001b[0m\u001b[0mself\u001b[0m\u001b[1;33m,\u001b[0m \u001b[0mtransaction\u001b[0m\u001b[1;33m:\u001b[0m \u001b[0mUnion\u001b[0m\u001b[1;33m[\u001b[0m\u001b[0mHexStr\u001b[0m\u001b[1;33m,\u001b[0m \u001b[0mbytes\u001b[0m\u001b[1;33m]\u001b[0m\u001b[1;33m)\u001b[0m \u001b[1;33m->\u001b[0m \u001b[0mHexBytes\u001b[0m\u001b[1;33m:\u001b[0m\u001b[1;33m\u001b[0m\u001b[1;33m\u001b[0m\u001b[0m\n\u001b[1;32m--> 698\u001b[1;33m         \u001b[1;32mreturn\u001b[0m \u001b[0mself\u001b[0m\u001b[1;33m.\u001b[0m\u001b[0m_send_raw_transaction\u001b[0m\u001b[1;33m(\u001b[0m\u001b[0mtransaction\u001b[0m\u001b[1;33m)\u001b[0m\u001b[1;33m\u001b[0m\u001b[1;33m\u001b[0m\u001b[0m\n\u001b[0m\u001b[0;32m    699\u001b[0m \u001b[1;33m\u001b[0m\u001b[0m\n\u001b[0;32m    700\u001b[0m     def sign_munger(\n",
      "\u001b[1;32m~\\AppData\\Local\\Programs\\Python\\Python310\\lib\\site-packages\\web3\\module.py\u001b[0m in \u001b[0;36mcaller\u001b[1;34m(*args, **kwargs)\u001b[0m\n\u001b[0;32m     55\u001b[0m             \u001b[1;32mreturn\u001b[0m \u001b[0mLogFilter\u001b[0m\u001b[1;33m(\u001b[0m\u001b[0meth_module\u001b[0m\u001b[1;33m=\u001b[0m\u001b[0mmodule\u001b[0m\u001b[1;33m,\u001b[0m \u001b[0mfilter_id\u001b[0m\u001b[1;33m=\u001b[0m\u001b[0merr\u001b[0m\u001b[1;33m.\u001b[0m\u001b[0mfilter_id\u001b[0m\u001b[1;33m)\u001b[0m\u001b[1;33m\u001b[0m\u001b[1;33m\u001b[0m\u001b[0m\n\u001b[0;32m     56\u001b[0m         \u001b[0mresult_formatters\u001b[0m\u001b[1;33m,\u001b[0m \u001b[0merror_formatters\u001b[0m\u001b[1;33m,\u001b[0m \u001b[0mnull_result_formatters\u001b[0m \u001b[1;33m=\u001b[0m \u001b[0mresponse_formatters\u001b[0m\u001b[1;33m\u001b[0m\u001b[1;33m\u001b[0m\u001b[0m\n\u001b[1;32m---> 57\u001b[1;33m         result = w3.manager.request_blocking(method_str,\n\u001b[0m\u001b[0;32m     58\u001b[0m                                              \u001b[0mparams\u001b[0m\u001b[1;33m,\u001b[0m\u001b[1;33m\u001b[0m\u001b[1;33m\u001b[0m\u001b[0m\n\u001b[0;32m     59\u001b[0m                                              \u001b[0merror_formatters\u001b[0m\u001b[1;33m,\u001b[0m\u001b[1;33m\u001b[0m\u001b[1;33m\u001b[0m\u001b[0m\n",
      "\u001b[1;32m~\\AppData\\Local\\Programs\\Python\\Python310\\lib\\site-packages\\web3\\manager.py\u001b[0m in \u001b[0;36mrequest_blocking\u001b[1;34m(self, method, params, error_formatters, null_result_formatters)\u001b[0m\n\u001b[0;32m    185\u001b[0m         \"\"\"\n\u001b[0;32m    186\u001b[0m         \u001b[0mresponse\u001b[0m \u001b[1;33m=\u001b[0m \u001b[0mself\u001b[0m\u001b[1;33m.\u001b[0m\u001b[0m_make_request\u001b[0m\u001b[1;33m(\u001b[0m\u001b[0mmethod\u001b[0m\u001b[1;33m,\u001b[0m \u001b[0mparams\u001b[0m\u001b[1;33m)\u001b[0m\u001b[1;33m\u001b[0m\u001b[1;33m\u001b[0m\u001b[0m\n\u001b[1;32m--> 187\u001b[1;33m         return self.formatted_response(response,\n\u001b[0m\u001b[0;32m    188\u001b[0m                                        \u001b[0mparams\u001b[0m\u001b[1;33m,\u001b[0m\u001b[1;33m\u001b[0m\u001b[1;33m\u001b[0m\u001b[0m\n\u001b[0;32m    189\u001b[0m                                        \u001b[0merror_formatters\u001b[0m\u001b[1;33m,\u001b[0m\u001b[1;33m\u001b[0m\u001b[1;33m\u001b[0m\u001b[0m\n",
      "\u001b[1;32m~\\AppData\\Local\\Programs\\Python\\Python310\\lib\\site-packages\\web3\\manager.py\u001b[0m in \u001b[0;36mformatted_response\u001b[1;34m(self, response, params, error_formatters, null_result_formatters)\u001b[0m\n\u001b[0;32m    166\u001b[0m         \u001b[1;32mif\u001b[0m \u001b[1;34m\"error\"\u001b[0m \u001b[1;32min\u001b[0m \u001b[0mresponse\u001b[0m\u001b[1;33m:\u001b[0m\u001b[1;33m\u001b[0m\u001b[1;33m\u001b[0m\u001b[0m\n\u001b[0;32m    167\u001b[0m             \u001b[0mapply_error_formatters\u001b[0m\u001b[1;33m(\u001b[0m\u001b[0merror_formatters\u001b[0m\u001b[1;33m,\u001b[0m \u001b[0mresponse\u001b[0m\u001b[1;33m)\u001b[0m\u001b[1;33m\u001b[0m\u001b[1;33m\u001b[0m\u001b[0m\n\u001b[1;32m--> 168\u001b[1;33m             \u001b[1;32mraise\u001b[0m \u001b[0mValueError\u001b[0m\u001b[1;33m(\u001b[0m\u001b[0mresponse\u001b[0m\u001b[1;33m[\u001b[0m\u001b[1;34m\"error\"\u001b[0m\u001b[1;33m]\u001b[0m\u001b[1;33m)\u001b[0m\u001b[1;33m\u001b[0m\u001b[1;33m\u001b[0m\u001b[0m\n\u001b[0m\u001b[0;32m    169\u001b[0m         \u001b[1;32melif\u001b[0m \u001b[0mresponse\u001b[0m\u001b[1;33m[\u001b[0m\u001b[1;34m'result'\u001b[0m\u001b[1;33m]\u001b[0m \u001b[1;32min\u001b[0m \u001b[0mNULL_RESPONSES\u001b[0m\u001b[1;33m:\u001b[0m\u001b[1;33m\u001b[0m\u001b[1;33m\u001b[0m\u001b[0m\n\u001b[0;32m    170\u001b[0m             \u001b[1;31m# null_result_formatters raise either a BlockNotFound\u001b[0m\u001b[1;33m\u001b[0m\u001b[1;33m\u001b[0m\u001b[0m\n",
      "\u001b[1;31mValueError\u001b[0m: {'code': -32000, 'message': 'insufficient funds for gas * price + value'}"
     ]
    }
   ],
   "source": [
    "#SIMULATE FULL\n",
    "import time \n",
    "nonce = w3.eth.get_transaction_count(address)\n",
    "\n",
    "throws = 400\n",
    "for i in range(throws):\n",
    "    transaction = jabali_contract.functions.enterThrow().buildTransaction({'nonce' : nonce,\n",
    "                                                                            'gas': 200000,\n",
    "                                                                            'value': 10000000000000000})\n",
    "    signed_tx = w3.eth.account.sign_transaction(transaction, private_key)\n",
    "    w3.eth.sendRawTransaction(signed_tx.rawTransaction)\n",
    "    nonce += 1\n",
    "    time.sleep(1)"
   ]
  },
  {
   "cell_type": "code",
   "execution_count": null,
   "id": "7a7a5ff9",
   "metadata": {},
   "outputs": [],
   "source": [
    "#DO DASHBOARD"
   ]
  }
 ],
 "metadata": {
  "kernelspec": {
   "display_name": "Python 3 (ipykernel)",
   "language": "python",
   "name": "python3"
  },
  "language_info": {
   "codemirror_mode": {
    "name": "ipython",
    "version": 3
   },
   "file_extension": ".py",
   "mimetype": "text/x-python",
   "name": "python",
   "nbconvert_exporter": "python",
   "pygments_lexer": "ipython3",
   "version": "3.10.1"
  }
 },
 "nbformat": 4,
 "nbformat_minor": 5
}
